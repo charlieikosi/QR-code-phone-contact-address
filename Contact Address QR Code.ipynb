{
 "cells": [
  {
   "cell_type": "markdown",
   "id": "52f19df9",
   "metadata": {},
   "source": [
    "# Automatic Phonebook Entry using QR Codes \n",
    "\n",
    "This jupyter notebook is a step by step guide on creating personal qr codes that can be printed or attached to emails to make sharing your contact information to your networks easier."
   ]
  },
  {
   "cell_type": "markdown",
   "id": "efb416a9",
   "metadata": {
    "heading_collapsed": true
   },
   "source": [
    "## Library"
   ]
  },
  {
   "cell_type": "code",
   "execution_count": 16,
   "id": "56cd6db7",
   "metadata": {
    "hidden": true
   },
   "outputs": [],
   "source": [
    "# Import library\n",
    "import qrcode\n",
    "import segno"
   ]
  },
  {
   "cell_type": "markdown",
   "id": "ac0c7ebe",
   "metadata": {
    "heading_collapsed": true
   },
   "source": [
    "## Contact details"
   ]
  },
  {
   "cell_type": "code",
   "execution_count": null,
   "id": "1996a50d",
   "metadata": {
    "hidden": true
   },
   "outputs": [],
   "source": [
    "# Contact details\n",
    "display_name = \"Joe Bloe\"\n",
    "first_name = \"Joe\"\n",
    "last_name = \"Bloe\"\n",
    "email = \"joebloe@testmail.com\"\n",
    "phone_number = \"12345678\"\n",
    "organisation = \"Pattle Delamore Partners\"\n",
    "title = \"Engineer\"\n",
    "url = \"https//:www.pattledelamorepartners.com.nz\",\n",
    "pobox =\"P O Box 1234 Christchurch\",\n",
    "city = \"Christchurch\"\n",
    "zipcode = \"8011\",\n",
    "country =\"New Zealand\"\n",
    "region = \"Canterbury\"\n",
    "street = \"134 Oxford Terrace Christchurch 8011\""
   ]
  },
  {
   "cell_type": "markdown",
   "id": "b366b5f2",
   "metadata": {
    "heading_collapsed": true
   },
   "source": [
    "## Using Vcards for QR code Generation\n",
    "\n",
    "in this method we shall utilize the method argument to create a vcard which will then be used to generate a qr code. See https://segno.readthedocs.io/en/latest/api.html#segno.helpers.make_vcard for more details on the argument parameters.\n",
    "\n",
    "\n",
    "**Input arguments for Vcard details:**\n",
    "\n",
    "\n",
    "segno.helpers.make_vcard(\n",
    "\n",
    "name,\n",
    "displayname,\n",
    "email=None,\n",
    "phone=None,\n",
    "fax=None,\n",
    "videophone=None,\n",
    "memo=None,\n",
    "nickname=None,\n",
    "birthday=None,\n",
    "url=None,\n",
    "pobox=None,\n",
    "street=None,\n",
    "city=None,\n",
    "region=None,\n",
    "zipcode=None,\n",
    "country=None,\n",
    "org=None,\n",
    "lat=None,\n",
    "lng=None,\n",
    "source=None,\n",
    "rev=None,\n",
    "title=None,\n",
    "photo_uri=None,\n",
    "cellphone=None,\n",
    "homephone=None,\n",
    "workphone=None\n",
    ")"
   ]
  },
  {
   "cell_type": "code",
   "execution_count": 43,
   "id": "12f123ab",
   "metadata": {
    "hidden": true
   },
   "outputs": [],
   "source": [
    "from segno import helpers\n",
    "qrcode = helpers.make_vcard(name=f\"{last_name};{first_name}\",\n",
    "                            displayname=f\"{display_name}\",\n",
    "                            title=f\"{title}\",\n",
    "                            email=f\"{email}\", \n",
    "                            phone=f\"{phone_number}\",\n",
    "                            country=f\"{country}\",\n",
    "                            city=f\"{city}\",\n",
    "                            org=f\"{organisation}\",\n",
    "                            zipcode=f\"{zipcode}\",\n",
    "                            region=f\"{region}\",\n",
    "                            street=f\"{street}\",\n",
    "                           url=f\"{url}\")\n",
    "qrcode.designator\n",
    "qrcode.save('test.png', scale=4)"
   ]
  }
 ],
 "metadata": {
  "kernelspec": {
   "display_name": "qrcode",
   "language": "python",
   "name": "qrcode"
  },
  "language_info": {
   "codemirror_mode": {
    "name": "ipython",
    "version": 3
   },
   "file_extension": ".py",
   "mimetype": "text/x-python",
   "name": "python",
   "nbconvert_exporter": "python",
   "pygments_lexer": "ipython3",
   "version": "3.12.3"
  }
 },
 "nbformat": 4,
 "nbformat_minor": 5
}
